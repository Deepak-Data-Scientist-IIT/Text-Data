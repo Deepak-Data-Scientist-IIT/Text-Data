{
  "nbformat": 4,
  "nbformat_minor": 0,
  "metadata": {
    "colab": {
      "name": "Text Data: One-Hot-Encoding.ipynb",
      "provenance": [],
      "authorship_tag": "ABX9TyNQMOofNBjfG6K+48V+dh0V",
      "include_colab_link": true
    },
    "kernelspec": {
      "name": "python3",
      "display_name": "Python 3"
    }
  },
  "cells": [
    {
      "cell_type": "markdown",
      "metadata": {
        "id": "view-in-github",
        "colab_type": "text"
      },
      "source": [
        "<a href=\"https://colab.research.google.com/github/Deepak-Data-Scientist-IIT/Text-Data/blob/master/One_Hot_Encoding.ipynb\" target=\"_parent\"><img src=\"https://colab.research.google.com/assets/colab-badge.svg\" alt=\"Open In Colab\"/></a>"
      ]
    },
    {
      "cell_type": "markdown",
      "metadata": {
        "id": "lNQBvPzbYsmK",
        "colab_type": "text"
      },
      "source": [
        "# **1 Get Data**"
      ]
    },
    {
      "cell_type": "code",
      "metadata": {
        "id": "5SW93TxEY1Xu",
        "colab_type": "code",
        "colab": {}
      },
      "source": [
        "# Input Text\n",
        "text= ['Building some bots for Wikipedia.',\n",
        "       'Wikipedia is flooded with information.',\n",
        "       'There is an app for everything.']"
      ],
      "execution_count": 1,
      "outputs": []
    },
    {
      "cell_type": "markdown",
      "metadata": {
        "id": "dYDpzv9TZ25q",
        "colab_type": "text"
      },
      "source": [
        "# **2 Text Cleaning**"
      ]
    },
    {
      "cell_type": "code",
      "metadata": {
        "id": "OMpIdZ-_Z6d3",
        "colab_type": "code",
        "colab": {}
      },
      "source": [
        "# cleaning\n",
        "import re\n",
        "def clean(text):\n",
        "\n",
        "  # lower case\n",
        "  text = text.lower()\n",
        "\n",
        "  # remove punctuations\n",
        "  text = re.sub('[^a-zA-Z]',\" \",text)\n",
        "\n",
        "  return text"
      ],
      "execution_count": 3,
      "outputs": []
    },
    {
      "cell_type": "code",
      "metadata": {
        "id": "Nw5aMdaNelbF",
        "colab_type": "code",
        "colab": {}
      },
      "source": [
        "# Call the clean function\n",
        "cleaned_text = []\n",
        "\n",
        "for i in text:\n",
        "  cleaned_text.append(clean(i))"
      ],
      "execution_count": 4,
      "outputs": []
    },
    {
      "cell_type": "code",
      "metadata": {
        "id": "X4jRtZHhfD5t",
        "colab_type": "code",
        "colab": {
          "base_uri": "https://localhost:8080/",
          "height": 35
        },
        "outputId": "50d450af-64be-46fb-9029-fca6ed64bd98"
      },
      "source": [
        "print(cleaned_text)"
      ],
      "execution_count": 5,
      "outputs": [
        {
          "output_type": "stream",
          "text": [
            "['building some bots for wikipedia ', 'wikipedia is flooded with information ', 'there is an app for everything ']\n"
          ],
          "name": "stdout"
        }
      ]
    },
    {
      "cell_type": "markdown",
      "metadata": {
        "id": "LRuNrDwef0K8",
        "colab_type": "text"
      },
      "source": [
        "# **3 Tokenzation**"
      ]
    },
    {
      "cell_type": "markdown",
      "metadata": {
        "id": "nJ3IuVDxgsf8",
        "colab_type": "text"
      },
      "source": [
        "Now the next step is  tokenization, here the cleaned sentences are split into tokens"
      ]
    },
    {
      "cell_type": "code",
      "metadata": {
        "id": "BBE_5EpsgASo",
        "colab_type": "code",
        "colab": {
          "base_uri": "https://localhost:8080/",
          "height": 55
        },
        "outputId": "12a0c106-40e5-4bf3-fdbf-858451b55363"
      },
      "source": [
        "# Tokenize the text\n",
        "tokens = []\n",
        "\n",
        "for i in cleaned_text:\n",
        "  tokens.append(i.split())\n",
        "\n",
        "print(tokens)"
      ],
      "execution_count": 6,
      "outputs": [
        {
          "output_type": "stream",
          "text": [
            "[['building', 'some', 'bots', 'for', 'wikipedia'], ['wikipedia', 'is', 'flooded', 'with', 'information'], ['there', 'is', 'an', 'app', 'for', 'everything']]\n"
          ],
          "name": "stdout"
        }
      ]
    },
    {
      "cell_type": "markdown",
      "metadata": {
        "id": "EXABC8S-jb2j",
        "colab_type": "text"
      },
      "source": [
        "# **4 Vocabulary Preparation** "
      ]
    },
    {
      "cell_type": "markdown",
      "metadata": {
        "id": "5sVNnBSCj7o0",
        "colab_type": "text"
      },
      "source": [
        "Vocabulary consist of all the unique tokens in the text data"
      ]
    },
    {
      "cell_type": "code",
      "metadata": {
        "id": "Qkp8Pd3zjjtD",
        "colab_type": "code",
        "colab": {
          "base_uri": "https://localhost:8080/",
          "height": 35
        },
        "outputId": "c6d397c5-d66e-4273-c1df-3f40ce117585"
      },
      "source": [
        "vocab = []\n",
        "\n",
        "for i in tokens:\n",
        "  for j in i:\n",
        "    if j not in vocab:\n",
        "      vocab.append(j)\n",
        "\n",
        "# remove duplicate tokens\n",
        "vocab = list(set(vocab))\n",
        "\n",
        "# sort tokens\n",
        "vocab.sort()\n",
        "\n",
        "print(vocab)"
      ],
      "execution_count": 7,
      "outputs": [
        {
          "output_type": "stream",
          "text": [
            "['an', 'app', 'bots', 'building', 'everything', 'flooded', 'for', 'information', 'is', 'some', 'there', 'wikipedia', 'with']\n"
          ],
          "name": "stdout"
        }
      ]
    },
    {
      "cell_type": "markdown",
      "metadata": {
        "id": "tAHBWPF-oWdA",
        "colab_type": "text"
      },
      "source": [
        "# **5 Feature Representation(One-Hot-Encoding)**"
      ]
    },
    {
      "cell_type": "code",
      "metadata": {
        "id": "zmHhYKODosEz",
        "colab_type": "code",
        "colab": {}
      },
      "source": [
        "# One hot vectors\n",
        "import numpy as np\n",
        "\n",
        "ohe = np.zeros([len(vocab), len(vocab)])\n",
        "\n",
        "for i in range(len(ohe)):\n",
        "  ohe[i][i]= 1"
      ],
      "execution_count": 8,
      "outputs": []
    },
    {
      "cell_type": "code",
      "metadata": {
        "id": "BQ9MHggyqDlk",
        "colab_type": "code",
        "colab": {
          "base_uri": "https://localhost:8080/",
          "height": 248
        },
        "outputId": "2dc9ee05-7840-4278-9d0a-0f182474f8a8"
      },
      "source": [
        "ohe"
      ],
      "execution_count": 9,
      "outputs": [
        {
          "output_type": "execute_result",
          "data": {
            "text/plain": [
              "array([[1., 0., 0., 0., 0., 0., 0., 0., 0., 0., 0., 0., 0.],\n",
              "       [0., 1., 0., 0., 0., 0., 0., 0., 0., 0., 0., 0., 0.],\n",
              "       [0., 0., 1., 0., 0., 0., 0., 0., 0., 0., 0., 0., 0.],\n",
              "       [0., 0., 0., 1., 0., 0., 0., 0., 0., 0., 0., 0., 0.],\n",
              "       [0., 0., 0., 0., 1., 0., 0., 0., 0., 0., 0., 0., 0.],\n",
              "       [0., 0., 0., 0., 0., 1., 0., 0., 0., 0., 0., 0., 0.],\n",
              "       [0., 0., 0., 0., 0., 0., 1., 0., 0., 0., 0., 0., 0.],\n",
              "       [0., 0., 0., 0., 0., 0., 0., 1., 0., 0., 0., 0., 0.],\n",
              "       [0., 0., 0., 0., 0., 0., 0., 0., 1., 0., 0., 0., 0.],\n",
              "       [0., 0., 0., 0., 0., 0., 0., 0., 0., 1., 0., 0., 0.],\n",
              "       [0., 0., 0., 0., 0., 0., 0., 0., 0., 0., 1., 0., 0.],\n",
              "       [0., 0., 0., 0., 0., 0., 0., 0., 0., 0., 0., 1., 0.],\n",
              "       [0., 0., 0., 0., 0., 0., 0., 0., 0., 0., 0., 0., 1.]])"
            ]
          },
          "metadata": {
            "tags": []
          },
          "execution_count": 9
        }
      ]
    }
  ]
}